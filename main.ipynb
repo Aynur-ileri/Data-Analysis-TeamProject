{
 "cells": [
  {
   "cell_type": "code",
   "execution_count": null,
   "metadata": {},
   "outputs": [],
   "source": [
    "from bs4 import BeautifulSoup\n",
    "import requests\n",
    "from selenium import webdriver\n",
    "from selenium.webdriver.common.by import By\n",
    "from selenium import webdriver\n",
    "from selenium.webdriver.chrome.service import Service as ChromeService\n",
    "from selenium.webdriver.chrome.options import Options\n",
    "from bs4 import BeautifulSoup\n",
    "\n",
    "import pandas as pd"
   ]
  },
  {
   "cell_type": "code",
   "execution_count": 7,
   "metadata": {},
   "outputs": [],
   "source": [
    "def get_soup(url):\n",
    "    driver = webdriver.Chrome()  #webdriver modulünü cagirma\n",
    "    driver.get(url)      # url ye gidecek\n",
    "    response = driver.page_source  #age_source özelliğini kullanarak tarayıcı tarafından yüklenen HTML içeriğini alır.\n",
    "    soup = BeautifulSoup(response, \"html.parser\")\n",
    "    return soup"
   ]
  },
  {
   "cell_type": "code",
   "execution_count": 12,
   "metadata": {},
   "outputs": [],
   "source": [
    "def get_govdata(soup):\n",
    "    data = []\n",
    "    page_info= soup.find_all('li', class_='resultentry design-box design-box-padding')\n",
    "    \n",
    "    \n",
    "    for i in page_info:\n",
    "      \n",
    "      title_info = i.find(\"div\", class_=\"column small-12 medium-8 large-9\")\n",
    "      title_find = title_info.find('a').text\n",
    "\n",
    "      title = title_find.split(\"-\",1)[1].strip()\n",
    "#split methodu ile (-)burdan sonrasinin alip,indeksi 1 olani alip yazdirma islemi\n",
    "      year_find = title_find.strip('_ ').split(\" \")[0]\n",
    "\n",
    "      \n",
    "\n",
    "      url = title_info.find('a')['href'] if title_info.find('a') else None\n",
    "      info = i.find(\"p\", class_=\"h2-teaser\").get_text(strip=True)\n",
    "      \n",
    "      kategorie_find = info.strip().split(\" \")\n",
    "      kategorie = kategorie_find[2]\n",
    "\n",
    "      year_find_1= i.find(\"span\", id=\"metadata_temporalCoverageFrom\")\n",
    "      first_date = year_find_1.text if year_find_1 else None  \n",
    "\n",
    "      year_find_2 = i.find(\"span\", id=\"metadata_temporalCoverageTo\") \n",
    "      second_date = year_find_2.text if year_find_2 else None\n",
    "\n",
    "  #info = i.find(\"div\", class_=\"column small-12 medium-4 large-3\")\n",
    "# info2 = i.find(\"p\", class_= \"design-box design-box-padding\").text\n",
    "            # print(info2)\n",
    "      print(f'Url : {url} ')\n",
    "      print(f'Title: {title} ')\n",
    "      print(f'info: {info}')\n",
    "      print(f' Kategorie : {kategorie}')\n",
    "      print(f'First_date: {first_date}')\n",
    "      print(f'Second_date: {second_date}')\n",
    "      print(f'Year: {year_find}')\n",
    "           \n",
    "      \n",
    "     \n",
    "\n",
    "      data.append({\n",
    "            'Url': url,\n",
    "            'Kategorie': kategorie,\n",
    "            'Title': title,\n",
    "            'Info': info,\n",
    "            'Year': year_find,\n",
    "            'First_date': first_date,\n",
    "            'Second_date': second_date\n",
    "              \n",
    "    })\n",
    "\n",
    "    \n",
    "    return data\n",
    "\n",
    "        \n"
   ]
  },
  {
   "cell_type": "code",
   "execution_count": null,
   "metadata": {},
   "outputs": [],
   "source": [
    "url = 'https://www.govdata.de/web/guest/daten/-/searchresult/f/type%3Adataset%2Csourceportal%3Abdc08f58-41dc-4f8a-a145-c019805bdeaf%2C/s/relevance_desc'\n",
    "soup = get_soup(url)\n",
    "show_data = get_govdata(soup)\n",
    "\n",
    "df= pd.DataFrame(show_data)\n",
    "print(df)\n"
   ]
  },
  {
   "cell_type": "code",
   "execution_count": null,
   "metadata": {},
   "outputs": [],
   "source": [
    "df.head()"
   ]
  }
 ],
 "metadata": {
  "kernelspec": {
   "display_name": "Python 3",
   "language": "python",
   "name": "python3"
  },
  "language_info": {
   "codemirror_mode": {
    "name": "ipython",
    "version": 3
   },
   "file_extension": ".py",
   "mimetype": "text/x-python",
   "name": "python",
   "nbconvert_exporter": "python",
   "pygments_lexer": "ipython3",
   "version": "3.11.1"
  },
  "orig_nbformat": 4
 },
 "nbformat": 4,
 "nbformat_minor": 2
}
